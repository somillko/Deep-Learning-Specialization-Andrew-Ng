{
 "cells": [
  {
   "cell_type": "code",
   "execution_count": 1,
   "metadata": {},
   "outputs": [],
   "source": [
    "import numpy as np\n",
    "import tensorflow as tf"
   ]
  },
  {
   "cell_type": "code",
   "execution_count": 2,
   "metadata": {},
   "outputs": [
    {
     "name": "stdout",
     "output_type": "stream",
     "text": [
      "0.0\n"
     ]
    }
   ],
   "source": [
    "# next to define a parameter we use tf.Variable initialise w to 0\n",
    "w = tf.Variable(0,dtype=tf.float32)\n",
    "# cost function was j = W^2 -10W + 25\n",
    "cost = tf.add(tf.add(w**2,tf.multiply(-10.,w)),25)\n",
    "# then we call the gradient descent optimizer with the learning \n",
    "# rate of 0.01 and goal of minimising the cost\n",
    "train = tf.train.GradientDescentOptimizer(0.01).minimize(cost)\n",
    "\n",
    "# following lines are quite idiomatic\n",
    "init = tf.global_variables_initializer()\n",
    "# to start a tensorflow session\n",
    "session = tf.Session()\n",
    "# to initialize the global variables\n",
    "session.run(init)\n",
    "# for tensorflow's evaluative variable\n",
    "print(session.run(w))\n"
   ]
  },
  {
   "cell_type": "code",
   "execution_count": 3,
   "metadata": {},
   "outputs": [
    {
     "name": "stdout",
     "output_type": "stream",
     "text": [
      "0.099999994\n"
     ]
    }
   ],
   "source": [
    "# it evaluates w to be 0 as we hav not run anything yet\n",
    "# run one step of gradient descent\n",
    "session.run(train)\n",
    "# then evaluate thhe value of w after one step of gradient descent and print it\n",
    "print(session.run(w))"
   ]
  },
  {
   "cell_type": "code",
   "execution_count": 4,
   "metadata": {},
   "outputs": [
    {
     "name": "stdout",
     "output_type": "stream",
     "text": [
      "4.9999886\n"
     ]
    }
   ],
   "source": [
    "# lets run 1000 iterations of gradient descent \n",
    "for i in range(1000):\n",
    "    session.run(train)\n",
    "print(session.run(w))"
   ]
  },
  {
   "cell_type": "code",
   "execution_count": 5,
   "metadata": {},
   "outputs": [],
   "source": [
    "# since we were optimising (w-5)^2 and optimal value of w is 5, we got\n",
    "# 4.99, which is very close to it.\n",
    "# w is the parameter which we optimize so we are going to declare \n",
    "# that as a variable.\n",
    "# we only had to  implement only forward prop and it can figure \n",
    "# it itself on how to back prop and find the derivatives\n",
    " \n",
    "# in the above example we have minimised the fixed function of w\n",
    "# what if the function we wnt to minimse is the function of the \n",
    "# training set.\n",
    "# so what if you have some training data x and when you are training\n",
    "# a NN the training data x can change "
   ]
  },
  {
   "cell_type": "code",
   "execution_count": 6,
   "metadata": {},
   "outputs": [],
   "source": [
    "# how to get training data into a tensorflow program"
   ]
  },
  {
   "cell_type": "code",
   "execution_count": 10,
   "metadata": {},
   "outputs": [
    {
     "name": "stdout",
     "output_type": "stream",
     "text": [
      "0.0\n"
     ]
    }
   ],
   "source": [
    "# this is the data we plug into x\n",
    "coefficient = np.array([[1.],[-20.],[100.]])\n",
    "\n",
    "# next to define a parameter we use tf.Variable initialise w to 0\n",
    "w = tf.Variable(0,dtype=tf.float32)\n",
    "# placeholder function tells tensorflow that x is something that we will \n",
    "# provide the values for later\n",
    "x = tf.placeholder(tf.float32,[3,1])\n",
    "\n",
    "# cost = tf.add(tf.add(w**2,tf.multiply(-10.,w)),25)\n",
    "cost = x[0][0]*w**2 + x[1][0]*w + x[2][0]\n",
    "# x becomes the data that sort of controls the coefficients of \n",
    "# this quadratic function\n",
    "\n",
    "# then we call the gradient descent optimizer with the learning \n",
    "# rate of 0.01 and goal of minimising the cost\n",
    "train = tf.train.GradientDescentOptimizer(0.01).minimize(cost)\n",
    "\n",
    "# following lines are quite idiomatic\n",
    "init = tf.global_variables_initializer()\n",
    "# to start a tensorflow session\n",
    "session = tf.Session()\n",
    "# to initialize the global variables\n",
    "session.run(init)\n",
    "# for tensorflow's evaluative variable\n",
    "print(session.run(w))\n"
   ]
  },
  {
   "cell_type": "code",
   "execution_count": 11,
   "metadata": {},
   "outputs": [
    {
     "name": "stdout",
     "output_type": "stream",
     "text": [
      "0.19999999\n"
     ]
    }
   ],
   "source": [
    "session.run(train, feed_dict={x:coefficient})\n",
    "print(session.run(w))"
   ]
  },
  {
   "cell_type": "code",
   "execution_count": 12,
   "metadata": {},
   "outputs": [
    {
     "name": "stdout",
     "output_type": "stream",
     "text": [
      "9.999977\n"
     ]
    }
   ],
   "source": [
    "for i in range(1000):\n",
    "    session.run(train, feed_dict={x:coefficient})\n",
    "print(session.run(w))"
   ]
  },
  {
   "cell_type": "code",
   "execution_count": 13,
   "metadata": {},
   "outputs": [],
   "source": [
    "# now we can change the coefficients of  the quadratic funtion \n",
    "# when we want "
   ]
  },
  {
   "cell_type": "code",
   "execution_count": null,
   "metadata": {},
   "outputs": [],
   "source": []
  }
 ],
 "metadata": {
  "kernelspec": {
   "display_name": "Python 3",
   "language": "python",
   "name": "python3"
  },
  "language_info": {
   "codemirror_mode": {
    "name": "ipython",
    "version": 3
   },
   "file_extension": ".py",
   "mimetype": "text/x-python",
   "name": "python",
   "nbconvert_exporter": "python",
   "pygments_lexer": "ipython3",
   "version": "3.6.6"
  }
 },
 "nbformat": 4,
 "nbformat_minor": 2
}
